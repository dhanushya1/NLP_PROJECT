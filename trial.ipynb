{
 "cells": [
  {
   "cell_type": "code",
   "execution_count": 19,
   "metadata": {},
   "outputs": [],
   "source": [
    "import pandas as pd\n",
    "import re"
   ]
  },
  {
   "cell_type": "code",
   "execution_count": 2,
   "metadata": {},
   "outputs": [
    {
     "data": {
      "text/html": [
       "<div>\n",
       "<style scoped>\n",
       "    .dataframe tbody tr th:only-of-type {\n",
       "        vertical-align: middle;\n",
       "    }\n",
       "\n",
       "    .dataframe tbody tr th {\n",
       "        vertical-align: top;\n",
       "    }\n",
       "\n",
       "    .dataframe thead th {\n",
       "        text-align: right;\n",
       "    }\n",
       "</style>\n",
       "<table border=\"1\" class=\"dataframe\">\n",
       "  <thead>\n",
       "    <tr style=\"text-align: right;\">\n",
       "      <th></th>\n",
       "      <th>Name</th>\n",
       "      <th>Review_id</th>\n",
       "      <th>Rating</th>\n",
       "      <th>Review</th>\n",
       "    </tr>\n",
       "  </thead>\n",
       "  <tbody>\n",
       "    <tr>\n",
       "      <th>0</th>\n",
       "      <td>PES UNIVERSITY</td>\n",
       "      <td>1</td>\n",
       "      <td>4.4</td>\n",
       "      <td>Placements: Almost 90% of students got placed ...</td>\n",
       "    </tr>\n",
       "    <tr>\n",
       "      <th>1</th>\n",
       "      <td>PES UNIVERSITY</td>\n",
       "      <td>2</td>\n",
       "      <td>4.6</td>\n",
       "      <td>Placements: Our college is the best for placem...</td>\n",
       "    </tr>\n",
       "    <tr>\n",
       "      <th>2</th>\n",
       "      <td>PES UNIVERSITY</td>\n",
       "      <td>3</td>\n",
       "      <td>3.8</td>\n",
       "      <td>Placements: Students are not recruited in our ...</td>\n",
       "    </tr>\n",
       "    <tr>\n",
       "      <th>3</th>\n",
       "      <td>PES UNIVERSITY</td>\n",
       "      <td>4</td>\n",
       "      <td>4.6</td>\n",
       "      <td>Placements: Almost 95% of students got placed ...</td>\n",
       "    </tr>\n",
       "    <tr>\n",
       "      <th>4</th>\n",
       "      <td>PES UNIVERSITY</td>\n",
       "      <td>5</td>\n",
       "      <td>4.0</td>\n",
       "      <td>Placements: In the 2021 batch, the salary pack...</td>\n",
       "    </tr>\n",
       "  </tbody>\n",
       "</table>\n",
       "</div>"
      ],
      "text/plain": [
       "             Name  Review_id  Rating  \\\n",
       "0  PES UNIVERSITY          1     4.4   \n",
       "1  PES UNIVERSITY          2     4.6   \n",
       "2  PES UNIVERSITY          3     3.8   \n",
       "3  PES UNIVERSITY          4     4.6   \n",
       "4  PES UNIVERSITY          5     4.0   \n",
       "\n",
       "                                              Review  \n",
       "0  Placements: Almost 90% of students got placed ...  \n",
       "1  Placements: Our college is the best for placem...  \n",
       "2  Placements: Students are not recruited in our ...  \n",
       "3  Placements: Almost 95% of students got placed ...  \n",
       "4  Placements: In the 2021 batch, the salary pack...  "
      ]
     },
     "execution_count": 2,
     "metadata": {},
     "output_type": "execute_result"
    }
   ],
   "source": [
    "data = pd.read_csv(\"data.csv\")\n",
    "data.head()"
   ]
  },
  {
   "attachments": {},
   "cell_type": "markdown",
   "metadata": {},
   "source": [
    "### Splitting reviews into features"
   ]
  },
  {
   "cell_type": "code",
   "execution_count": 34,
   "metadata": {},
   "outputs": [],
   "source": [
    "\n",
    "Placement ={}\n",
    "Infrastructure={}\n",
    "Faculty={}\n",
    "Other = {}\n",
    "\n",
    "for i in range(len(data)):\n",
    "    college = data.iloc[i,0]\n",
    "    review = data.iloc[i,3]\n",
    "    if college not in Placement:\n",
    "        Placement[college]=list()\n",
    "        Infrastructure[college]=list()\n",
    "        Faculty[college]=list()\n",
    "        Other[college]=list()\n",
    "    rev_list = re.split('\\n',review)\n",
    "    Placement[college].append(rev_list[0][12:])\n",
    "    Infrastructure[college].append(rev_list[2][15:])\n",
    "    Faculty[college].append(rev_list[4][8:])\n",
    "    if len(rev_list)==7:\n",
    "        Other[college].append(rev_list[6][7:])"
   ]
  },
  {
   "attachments": {},
   "cell_type": "markdown",
   "metadata": {},
   "source": [
    "### Pre-processing"
   ]
  },
  {
   "cell_type": "code",
   "execution_count": null,
   "metadata": {},
   "outputs": [],
   "source": []
  }
 ],
 "metadata": {
  "kernelspec": {
   "display_name": "Python 3",
   "language": "python",
   "name": "python3"
  },
  "language_info": {
   "codemirror_mode": {
    "name": "ipython",
    "version": 3
   },
   "file_extension": ".py",
   "mimetype": "text/x-python",
   "name": "python",
   "nbconvert_exporter": "python",
   "pygments_lexer": "ipython3",
   "version": "3.11.0"
  },
  "orig_nbformat": 4
 },
 "nbformat": 4,
 "nbformat_minor": 2
}
